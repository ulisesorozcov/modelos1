{
  "cells": [
    {
      "cell_type": "code",
      "source": [
        "### MODULO 2: Python\n",
        "### PARTE 1"
      ],
      "metadata": {
        "id": "ptiqdDgWjaFX"
      },
      "id": "ptiqdDgWjaFX",
      "execution_count": null,
      "outputs": []
    },
    {
      "cell_type": "code",
      "execution_count": null,
      "id": "415439bc",
      "metadata": {
        "vscode": {
          "languageId": "plaintext"
        },
        "id": "415439bc"
      },
      "outputs": [],
      "source": [
        "### Inicializando\n",
        "!wget --no-cache -O init.py -q https://raw.githubusercontent.com/rramosp/ai4eng.v1/main/content/init.py\n",
        "import init; init.init(force_download=False); init.get_weblink()"
      ]
    },
    {
      "cell_type": "code",
      "execution_count": null,
      "id": "6837c637",
      "metadata": {
        "vscode": {
          "languageId": "plaintext"
        },
        "id": "6837c637"
      },
      "outputs": [],
      "source": [
        "from local.lib.rlxmoocapi import submit, session\n",
        "session.LoginSequence(endpoint=init.endpoint, course_id=init.course_id, lab_id=\"L02.01\", varname=\"student\");"
      ]
    },
    {
      "cell_type": "code",
      "source": [
        "import numpy as np"
      ],
      "metadata": {
        "id": "CUHGrDmOyFZI"
      },
      "id": "CUHGrDmOyFZI",
      "execution_count": null,
      "outputs": []
    },
    {
      "cell_type": "code",
      "source": [
        "## Task 1: Palindrome"
      ],
      "metadata": {
        "id": "iJ7O5ezgbbRk"
      },
      "id": "iJ7O5ezgbbRk",
      "execution_count": null,
      "outputs": []
    },
    {
      "cell_type": "code",
      "source": [
        "## example\n",
        ">>> palindromo(n=3456543)\n",
        "True\n",
        "\n",
        ">>> palindromo(n=543)\n",
        "False"
      ],
      "metadata": {
        "id": "3GWrCsPGjRuu"
      },
      "id": "3GWrCsPGjRuu",
      "execution_count": null,
      "outputs": []
    },
    {
      "cell_type": "code",
      "source": [
        "def palindromo(n): return str(n) == str(n)[::-1]"
      ],
      "metadata": {
        "id": "DxWN7S-6jX52"
      },
      "id": "DxWN7S-6jX52",
      "execution_count": null,
      "outputs": []
    },
    {
      "cell_type": "code",
      "source": [
        "print (palindromo(12321))\n",
        "print (palindromo(12322))"
      ],
      "metadata": {
        "id": "M7-Rz7v8yRtx"
      },
      "id": "M7-Rz7v8yRtx",
      "execution_count": null,
      "outputs": []
    },
    {
      "cell_type": "code",
      "source": [
        "student.submit_task(globals(), task_id=\"task_01\");"
      ],
      "metadata": {
        "id": "Q_26hRQ2yU6w"
      },
      "id": "Q_26hRQ2yU6w",
      "execution_count": null,
      "outputs": []
    },
    {
      "cell_type": "code",
      "source": [
        "### Task 2: Money Change"
      ],
      "metadata": {
        "id": "yo5VdixxjdUd"
      },
      "id": "yo5VdixxjdUd",
      "execution_count": null,
      "outputs": []
    },
    {
      "cell_type": "code",
      "source": [
        "### Example\n",
        ">>> change_money(n=55)\n",
        "[5,0,2]\n",
        "\n",
        ">>> change_money(n=200)\n",
        "None\n",
        "\n",
        ">>> change_money(n=47)\n",
        "[2,2,1]"
      ],
      "metadata": {
        "id": "4eG1TiLojqcm",
        "outputId": "e26ef5ca-1a4a-4ba0-f68e-46456b2135a9",
        "colab": {
          "base_uri": "https://localhost:8080/"
        }
      },
      "execution_count": null,
      "outputs": [
        {
          "output_type": "execute_result",
          "data": {
            "text/plain": [
              "array([44, 54, 80, 45, 47, 16, 65, 58, 32, 17])"
            ]
          },
          "metadata": {},
          "execution_count": 28
        }
      ],
      "id": "4eG1TiLojqcm"
    },
    {
      "cell_type": "code",
      "source": [
        "def change_money(n):\n",
        "    r = [0, 0, 0]  # r[0]=monedas de 1, r[1]=monedas de 10, r[2]=monedas de 25\n",
        "\n",
        "    if n < 1 or n > 99:\n",
        "        return None\n",
        "\n",
        "    # monedas de 25\n",
        "    r[2] = n // 25\n",
        "    n = n % 25\n",
        "\n",
        "    # monedas de 10\n",
        "    r[1] = n // 10\n",
        "    n = n % 10\n",
        "\n",
        "    # monedas de 1\n",
        "    r[0] = n\n",
        "\n",
        "    return r"
      ],
      "metadata": {
        "id": "WY7ZJflSk1GW"
      },
      "id": "WY7ZJflSk1GW",
      "execution_count": 2,
      "outputs": []
    },
    {
      "cell_type": "code",
      "source": [
        "student.submit_task(globals(), task_id=\"task_02\");"
      ],
      "metadata": {
        "id": "OiU_gmTf0Z1o"
      },
      "id": "OiU_gmTf0Z1o",
      "execution_count": null,
      "outputs": []
    },
    {
      "cell_type": "code",
      "source": [
        "Task 3: Fibonacci"
      ],
      "metadata": {
        "id": "759UBcJB0c7Y"
      },
      "id": "759UBcJB0c7Y",
      "execution_count": null,
      "outputs": []
    },
    {
      "cell_type": "code",
      "source": [
        "\n",
        ">>> fibonacci(10)\n",
        "55\n",
        "\n",
        ">>> fibonacci(36)\n",
        "14930352"
      ],
      "metadata": {
        "id": "Q7MXK2R20f3w"
      },
      "id": "Q7MXK2R20f3w",
      "execution_count": null,
      "outputs": []
    },
    {
      "cell_type": "code",
      "source": [
        "def fibonacci(n):\n",
        "    if n == 0:\n",
        "        return 0\n",
        "    elif n == 1:\n",
        "        return 1\n",
        "\n",
        "    f_1, f_2 = 1, 0  # f1 = Fib(1), f0 = Fib(0)\n",
        "    for _ in range(2, n + 1):\n",
        "        f_1, f_2 = f_1 + f_2, f_1\n",
        "    return f_1"
      ],
      "metadata": {
        "id": "_4CPB1SD0hjQ"
      },
      "id": "_4CPB1SD0hjQ",
      "execution_count": null,
      "outputs": []
    },
    {
      "cell_type": "code",
      "source": [
        "fibonacci(10), fibonacci(36)"
      ],
      "metadata": {
        "id": "8XC2bDz90jSY"
      },
      "id": "8XC2bDz90jSY",
      "execution_count": null,
      "outputs": []
    },
    {
      "cell_type": "code",
      "source": [
        "student.submit_task(globals(), task_id=\"task_03\");"
      ],
      "metadata": {
        "id": "ZcTNPJqY0l1h"
      },
      "id": "ZcTNPJqY0l1h",
      "execution_count": null,
      "outputs": []
    },
    {
      "cell_type": "code",
      "source": [
        "## Task 4: Perfect number"
      ],
      "metadata": {
        "id": "eQ8gLym80niY"
      },
      "id": "eQ8gLym80niY",
      "execution_count": null,
      "outputs": []
    },
    {
      "cell_type": "code",
      "source": [
        ">>> perfecto(6)\n",
        "True\n",
        "\n",
        ">>> perfecto(51)\n",
        "False\n",
        "\n",
        ">>> perfecto(496)\n",
        "True"
      ],
      "metadata": {
        "id": "jN7vdP7g0rOZ"
      },
      "id": "jN7vdP7g0rOZ",
      "execution_count": null,
      "outputs": []
    },
    {
      "cell_type": "code",
      "source": [
        "n = 12\n",
        "n%2, n%3, n%4, n%5, n%6, n%7, n%8"
      ],
      "metadata": {
        "id": "j5rF-G4r0s5g"
      },
      "id": "j5rF-G4r0s5g",
      "execution_count": null,
      "outputs": []
    },
    {
      "cell_type": "code",
      "source": [
        "def perfecto(n):\n",
        "    suma = 0\n",
        "    for i in range(1, n):\n",
        "        if n % i == 0:\n",
        "            suma += i\n",
        "    return suma == n"
      ],
      "metadata": {
        "id": "-9msvMCV0uKQ"
      },
      "id": "-9msvMCV0uKQ",
      "execution_count": null,
      "outputs": []
    },
    {
      "cell_type": "code",
      "source": [
        "student.submit_task(globals(), task_id=\"task_04\");"
      ],
      "metadata": {
        "id": "CcSMQyv10v0p"
      },
      "id": "CcSMQyv10v0p",
      "execution_count": null,
      "outputs": []
    }
  ],
  "metadata": {
    "language_info": {
      "name": "python"
    },
    "colab": {
      "provenance": []
    },
    "kernelspec": {
      "name": "python3",
      "display_name": "Python 3"
    }
  },
  "nbformat": 4,
  "nbformat_minor": 5
}