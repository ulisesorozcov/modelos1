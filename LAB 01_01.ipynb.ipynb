{
  "cells": [
    {
      "cell_type": "code",
      "source": [
        "### PARTE 1"
      ],
      "metadata": {
        "id": "ptiqdDgWjaFX"
      },
      "id": "ptiqdDgWjaFX",
      "execution_count": null,
      "outputs": []
    },
    {
      "cell_type": "code",
      "execution_count": null,
      "id": "415439bc",
      "metadata": {
        "vscode": {
          "languageId": "plaintext"
        },
        "id": "415439bc"
      },
      "outputs": [],
      "source": [
        "### Mi primer codigo\n",
        "!wget --no-cache -O init.py -q https://raw.githubusercontent.com/rramosp/ai4eng.v1/main/content/init.py\n",
        "import init; init.init(force_download=False); init.get_weblink()"
      ]
    },
    {
      "cell_type": "code",
      "execution_count": null,
      "id": "6837c637",
      "metadata": {
        "vscode": {
          "languageId": "plaintext"
        },
        "id": "6837c637"
      },
      "outputs": [],
      "source": [
        "import inspect\n",
        "from local.lib.rlxmoocapi import session\n",
        "session.LoginSequence(endpoint=init.endpoint, course_id=init.course_id, lab_id=\"L01.01\", varname=\"student\");"
      ]
    },
    {
      "cell_type": "code",
      "source": [
        "### Ejercicio 1: Suma dos matrices\n",
        "def suma_matrices(a,b):\n",
        "    result = []\n",
        "    for i in range(len(a)):\n",
        "      operaciones = []\n",
        "      for j in range(len(a[0])):\n",
        "        operaciones.append(a[i][j] + b[i][j])\n",
        "      result.append(operaciones)\n",
        "    return result\n"
      ],
      "metadata": {
        "id": "iJ7O5ezgbbRk"
      },
      "id": "iJ7O5ezgbbRk",
      "execution_count": null,
      "outputs": []
    },
    {
      "cell_type": "code",
      "source": [
        "## Comprobando\n",
        "import numpy as np\n",
        "s = np.array([[1,2,3]])\n",
        "t = np.array([[4,5,6]])\n",
        "suma_matrices(s,t)\n",
        "\n",
        "## Comrpobando\n",
        "a = np.random.randint(10, size=(3,2))\n",
        "b = np.random.randint(10, size=(3,2))\n",
        "print (a)\n",
        "print (b)\n",
        "print (suma_matrices(a,b))"
      ],
      "metadata": {
        "id": "3GWrCsPGjRuu"
      },
      "id": "3GWrCsPGjRuu",
      "execution_count": null,
      "outputs": []
    },
    {
      "cell_type": "code",
      "source": [
        "student.submit_task(globals(), task_id=\"task_01\");"
      ],
      "metadata": {
        "id": "DxWN7S-6jX52"
      },
      "id": "DxWN7S-6jX52",
      "execution_count": null,
      "outputs": []
    },
    {
      "cell_type": "code",
      "source": [
        "### PARTE 2"
      ],
      "metadata": {
        "id": "yo5VdixxjdUd"
      },
      "id": "yo5VdixxjdUd",
      "execution_count": null,
      "outputs": []
    },
    {
      "cell_type": "code",
      "source": [],
      "metadata": {
        "id": "qd5FNLIVjg3l"
      },
      "id": "qd5FNLIVjg3l",
      "execution_count": null,
      "outputs": []
    }
  ],
  "metadata": {
    "language_info": {
      "name": "python"
    },
    "colab": {
      "provenance": []
    },
    "kernelspec": {
      "name": "python3",
      "display_name": "Python 3"
    }
  },
  "nbformat": 4,
  "nbformat_minor": 5
}