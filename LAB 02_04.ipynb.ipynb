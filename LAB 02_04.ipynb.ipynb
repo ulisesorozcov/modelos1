{
  "cells": [
    {
      "cell_type": "code",
      "source": [
        "### LAB 02.03 - Pandas\n",
        "### PARTE 1"
      ],
      "metadata": {
        "id": "ptiqdDgWjaFX"
      },
      "id": "ptiqdDgWjaFX",
      "execution_count": null,
      "outputs": []
    },
    {
      "cell_type": "code",
      "execution_count": null,
      "id": "415439bc",
      "metadata": {
        "vscode": {
          "languageId": "plaintext"
        },
        "id": "415439bc"
      },
      "outputs": [],
      "source": [
        "!wget --no-cache -O init.py -q https://raw.githubusercontent.com/rramosp/ai4eng.v1/main/content/init.py\n",
        "import init; init.init(force_download=False); init.get_weblink()"
      ]
    },
    {
      "cell_type": "code",
      "execution_count": null,
      "id": "6837c637",
      "metadata": {
        "vscode": {
          "languageId": "plaintext"
        },
        "id": "6837c637"
      },
      "outputs": [],
      "source": [
        "from local.lib.rlxmoocapi import submit, session\n",
        "session.LoginSequence(endpoint=init.endpoint, course_id=init.course_id, lab_id=\"L02.04\", varname=\"student\");"
      ]
    },
    {
      "cell_type": "code",
      "source": [
        "import numpy as np\n",
        "import pandas as pd\n",
        "import itertools"
      ],
      "metadata": {
        "id": "iJ7O5ezgbbRk"
      },
      "id": "iJ7O5ezgbbRk",
      "execution_count": null,
      "outputs": []
    },
    {
      "cell_type": "code",
      "source": [
        "### Configuration"
      ],
      "metadata": {
        "id": "3dpXI0kkCfE8"
      },
      "id": "3dpXI0kkCfE8",
      "execution_count": null,
      "outputs": []
    },
    {
      "cell_type": "code",
      "source": [
        "def create_deck(n_heaps, cards_per_heap, shuffle=False):\n",
        "    n_cards = n_heaps * cards_per_heap\n",
        "\n",
        "    chars = [chr(i) for i in np.arange(26)+65]\n",
        "    names = [i+j for i,j in itertools.product(chars, chars)]\n",
        "\n",
        "    assert n_cards < len(names), \"cannot have more than %d cards\"%len(name)\n",
        "\n",
        "    c = np.r_[names[:n_cards]]\n",
        "    if shuffle:\n",
        "        c = np.random.permutation(c)\n",
        "    return c"
      ],
      "metadata": {
        "id": "3GWrCsPGjRuu"
      },
      "id": "3GWrCsPGjRuu",
      "execution_count": null,
      "outputs": []
    },
    {
      "cell_type": "code",
      "source": [
        "create_deck(n_heaps=3, cards_per_heap=10, shuffle=False)\n",
        "\n",
        "create_deck(n_heaps=3, cards_per_heap=7, shuffle=True)\n",
        "\n",
        "create_deck(n_heaps=3, cards_per_heap=10, shuffle=True)"
      ],
      "metadata": {
        "id": "DxWN7S-6jX52"
      },
      "id": "DxWN7S-6jX52",
      "execution_count": null,
      "outputs": []
    },
    {
      "cell_type": "code",
      "source": [
        "## pick a card\n",
        "def pick_card(c):\n",
        "    return np.random.choice(c)\n"
      ],
      "metadata": {
        "id": "kEFgaDkOIVgV"
      },
      "id": "kEFgaDkOIVgV",
      "execution_count": null,
      "outputs": []
    },
    {
      "cell_type": "code",
      "source": [
        "c = create_deck(n_heaps=3, cards_per_heap=7, shuffle=True)\n",
        "n = pick_card(c)\n",
        "n"
      ],
      "metadata": {
        "id": "KNv4dVmiIaOr"
      },
      "id": "KNv4dVmiIaOr",
      "execution_count": null,
      "outputs": []
    },
    {
      "cell_type": "markdown",
      "source": [
        "Task 1. Make the heaps"
      ],
      "metadata": {
        "id": "gvjDRp56IdY0"
      },
      "id": "gvjDRp56IdY0"
    },
    {
      "cell_type": "code",
      "source": [
        "def make_heaps(c, n_heaps=3):\n",
        "    assert n_heaps % 2 == 1, \"must have an odd number of heaps\"\n",
        "    assert len(c) % n_heaps == 0, \"the length of the deck must be a multiple of the number of heaps\"\n",
        "\n",
        "    h = [[c[i] for i in range(j, len(c), n_heaps)] for j in range(n_heaps)]\n",
        "    return h"
      ],
      "metadata": {
        "id": "H-nq84_pCtQD"
      },
      "id": "H-nq84_pCtQD",
      "execution_count": null,
      "outputs": []
    },
    {
      "cell_type": "code",
      "source": [
        "n_heaps = 3\n",
        "c = create_deck(n_heaps=n_heaps, cards_per_heap=7)\n",
        "h = make_heaps(c, n_heaps)\n",
        "print(\"deck\", c)\n",
        "print(\"heaps\")\n",
        "h"
      ],
      "metadata": {
        "id": "pOky_0QcCwgr"
      },
      "id": "pOky_0QcCwgr",
      "execution_count": null,
      "outputs": []
    },
    {
      "cell_type": "code",
      "source": [
        "student.submit_task(globals(), task_id=\"task_01\");"
      ],
      "metadata": {
        "id": "IMStMJ95CyA7"
      },
      "id": "IMStMJ95CyA7",
      "execution_count": null,
      "outputs": []
    },
    {
      "cell_type": "code",
      "source": [
        "### PARTE 2"
      ],
      "metadata": {
        "id": "yo5VdixxjdUd"
      },
      "id": "yo5VdixxjdUd",
      "execution_count": null,
      "outputs": []
    },
    {
      "cell_type": "markdown",
      "source": [
        "Task 2: Organize the heaps"
      ],
      "metadata": {
        "id": "AVkUVIiaItz1"
      },
      "id": "AVkUVIiaItz1"
    },
    {
      "cell_type": "code",
      "source": [
        "def collect_heaps(h, n):\n",
        "    # encontrar el montón que contiene la carta n\n",
        "    idx = [i for i, heap in enumerate(h) if n in heap][0]\n",
        "    chosen_heap = h[idx]\n",
        "\n",
        "    # los demás montones\n",
        "    others = [heap for i, heap in enumerate(h) if i != idx]\n",
        "\n",
        "    # Aquí se barajan los montones restantes\n",
        "    np.random.shuffle(others)\n",
        "\n",
        "    # dividir en dos partes para colocar chosen_heap en el medio\n",
        "    half = len(others) // 2\n",
        "    left, right = others[:half], others[half:]\n",
        "\n",
        "    new_order = left + [chosen_heap] + right\n",
        "\n",
        "    # reconstruir el mazo\n",
        "    r = [card for heap in new_order for card in heap]\n",
        "    return r"
      ],
      "metadata": {
        "id": "4eG1TiLojqcm",
        "outputId": "e26ef5ca-1a4a-4ba0-f68e-46456b2135a9",
        "colab": {
          "base_uri": "https://localhost:8080/"
        }
      },
      "execution_count": null,
      "outputs": [
        {
          "output_type": "execute_result",
          "data": {
            "text/plain": [
              "array([44, 54, 80, 45, 47, 16, 65, 58, 32, 17])"
            ]
          },
          "metadata": {},
          "execution_count": 28
        }
      ],
      "id": "4eG1TiLojqcm"
    },
    {
      "cell_type": "code",
      "source": [
        ">>> n_heaps = 3\n",
        ">>> c = create_deck(n_heaps=n_heaps, cards_per_heap=7, shuffle=True)\n",
        ">>> n = pick_card(c)\n",
        ">>> print (\"card picked\", n)\n",
        ">>> h = make_heaps(c, n_heaps)\n",
        ">>> h\n",
        "\n",
        "card picked AD\n",
        "[['AP', 'AC', 'AE', 'AO', 'AQ', 'AF', 'AM'],\n",
        " ['AN', 'AT', 'AB', 'AJ', 'AU', 'AI', 'AS'],\n",
        " ['AR', 'AD', 'AA', 'AG', 'AH', 'AL', 'AK']]\n",
        "\n",
        "\n",
        ">>> new_c = collect_heaps(h, n)\n",
        ">>> print (new_c)\n",
        "\n",
        "['AP', 'AC', 'AE', 'AO', 'AQ', 'AF', 'AM', 'AR', 'AD', 'AA', 'AG', 'AH', 'AL', 'AK', 'AN', 'AT', 'AB', 'AJ', 'AU', 'AI', 'AS']"
      ],
      "metadata": {
        "id": "WY7ZJflSk1GW"
      },
      "id": "WY7ZJflSk1GW",
      "execution_count": null,
      "outputs": []
    },
    {
      "cell_type": "code",
      "source": [
        "new_c = collect_heaps(h, n)\n",
        "print (new_c)"
      ],
      "metadata": {
        "id": "MISUH3iXC6Cb"
      },
      "id": "MISUH3iXC6Cb",
      "execution_count": null,
      "outputs": []
    },
    {
      "cell_type": "code",
      "source": [
        "student.submit_task(globals(), task_id=\"task_02\");"
      ],
      "metadata": {
        "id": "k0pbv8_cC8Kz"
      },
      "id": "k0pbv8_cC8Kz",
      "execution_count": null,
      "outputs": []
    },
    {
      "cell_type": "markdown",
      "source": [
        "Task 3: Run the card trick"
      ],
      "metadata": {
        "id": "8O9pJYA-I7Uk"
      },
      "id": "8O9pJYA-I7Uk"
    },
    {
      "cell_type": "code",
      "source": [
        "## Parte 3"
      ],
      "metadata": {
        "id": "Q7cZIh5hC8iz"
      },
      "id": "Q7cZIh5hC8iz",
      "execution_count": null,
      "outputs": []
    },
    {
      "cell_type": "code",
      "source": [
        "def run(c, n, n_heaps=3):\n",
        "    deck = c.copy()\n",
        "    for _ in range(3):\n",
        "        h = make_heaps(deck, n_heaps)\n",
        "        deck = collect_heaps(h, n)\n",
        "    return deck.index(n) if isinstance(deck, list) else deck.tolist().index(n)"
      ],
      "metadata": {
        "id": "W8g671S4C_Lq"
      },
      "id": "W8g671S4C_Lq",
      "execution_count": null,
      "outputs": []
    },
    {
      "cell_type": "code",
      "source": [
        "n_heaps = 3\n",
        "c = create_deck(n_heaps=n_heaps, cards_per_heap=7)\n",
        "picked = \"AA\"\n",
        "print (\"desk\", c)\n",
        "pos = run(c, picked, n_heaps=n_heaps)\n",
        "print (\"position of card %s is %d\"%(picked, pos))"
      ],
      "metadata": {
        "id": "3iDTXoG-DEfr"
      },
      "id": "3iDTXoG-DEfr",
      "execution_count": null,
      "outputs": []
    },
    {
      "cell_type": "code",
      "source": [],
      "metadata": {
        "id": "GpMU3J5xJJA8"
      },
      "id": "GpMU3J5xJJA8",
      "execution_count": null,
      "outputs": []
    },
    {
      "cell_type": "code",
      "source": [
        "student.submit_task(globals(), task_id=\"task_03\");"
      ],
      "metadata": {
        "id": "-p4a2BA2DGHV"
      },
      "id": "-p4a2BA2DGHV",
      "execution_count": null,
      "outputs": []
    },
    {
      "cell_type": "markdown",
      "source": [
        "Task 4: Run the trick using the math"
      ],
      "metadata": {
        "id": "FyjmCH2CJG3l"
      },
      "id": "FyjmCH2CJG3l"
    },
    {
      "cell_type": "code",
      "source": [
        "def mrun(c, picked_card, n_heaps=3):\n",
        "    assert len(c) % n_heaps == 0, \"the number of heaps must be a divisor of the deck length\"\n",
        "\n",
        "    ch = len(c) // n_heaps  # cards per heap\n",
        "    nh = n_heaps\n",
        "\n",
        "    # posición inicial de la carta en el mazo\n",
        "    i = np.argwhere(c == picked_card)[0, 0]\n",
        "\n",
        "    # posiciones tras cada ronda\n",
        "    p1 = ch * (nh // 2) + i // nh\n",
        "    p2 = ch * (nh // 2) + p1 // nh\n",
        "    p3 = ch * (nh // 2) + p2 // nh\n",
        "\n",
        "    return int(p3)"
      ],
      "metadata": {
        "id": "5wOSGCwOJKKE"
      },
      "id": "5wOSGCwOJKKE",
      "execution_count": null,
      "outputs": []
    },
    {
      "cell_type": "code",
      "source": [
        "n_heaps = 3\n",
        "c = create_deck(n_heaps=n_heaps, cards_per_heap=4)\n",
        "picked = \"AI\"\n",
        "print (\"deck\", c)\n",
        "pos = mrun(c, picked, n_heaps=n_heaps)\n",
        "print (\"position of card %s is %d\"%(picked, pos))"
      ],
      "metadata": {
        "id": "_ZBSTcQkJMuj"
      },
      "id": "_ZBSTcQkJMuj",
      "execution_count": null,
      "outputs": []
    },
    {
      "cell_type": "code",
      "source": [
        "student.submit_task(globals(), task_id=\"task_04\");"
      ],
      "metadata": {
        "id": "Kr9cCciRJPq8"
      },
      "id": "Kr9cCciRJPq8",
      "execution_count": null,
      "outputs": []
    },
    {
      "cell_type": "code",
      "source": [
        "n_heaps = 3\n",
        "c = create_deck(n_heaps=n_heaps, cards_per_heap=4)\n",
        "picked = \"AI\"\n",
        "print (\"deck\", c)"
      ],
      "metadata": {
        "id": "TvoxJYHJJSlb"
      },
      "id": "TvoxJYHJJSlb",
      "execution_count": null,
      "outputs": []
    },
    {
      "cell_type": "code",
      "source": [
        "%timeit run(c, picked, n_heaps=n_heaps)"
      ],
      "metadata": {
        "id": "gjQL731iJT2b"
      },
      "id": "gjQL731iJT2b",
      "execution_count": null,
      "outputs": []
    },
    {
      "cell_type": "code",
      "source": [
        "%timeit mrun(c, picked, n_heaps=n_heaps)"
      ],
      "metadata": {
        "id": "TIVw1tjDJVa8"
      },
      "id": "TIVw1tjDJVa8",
      "execution_count": null,
      "outputs": []
    }
  ],
  "metadata": {
    "language_info": {
      "name": "python"
    },
    "colab": {
      "provenance": []
    },
    "kernelspec": {
      "name": "python3",
      "display_name": "Python 3"
    }
  },
  "nbformat": 4,
  "nbformat_minor": 5
}