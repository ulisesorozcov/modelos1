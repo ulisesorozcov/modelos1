{
  "cells": [
    {
      "cell_type": "code",
      "source": [
        "### LAB 02.03 - Pandas\n",
        "### PARTE 1"
      ],
      "metadata": {
        "id": "ptiqdDgWjaFX"
      },
      "id": "ptiqdDgWjaFX",
      "execution_count": null,
      "outputs": []
    },
    {
      "cell_type": "code",
      "execution_count": null,
      "id": "415439bc",
      "metadata": {
        "vscode": {
          "languageId": "plaintext"
        },
        "id": "415439bc"
      },
      "outputs": [],
      "source": [
        "!wget --no-cache -O init.py -q https://raw.githubusercontent.com/rramosp/ai4eng.v1/main/content/init.py\n",
        "import init; init.init(force_download=False); init.get_weblink()"
      ]
    },
    {
      "cell_type": "code",
      "execution_count": null,
      "id": "6837c637",
      "metadata": {
        "vscode": {
          "languageId": "plaintext"
        },
        "id": "6837c637"
      },
      "outputs": [],
      "source": [
        "from local.lib.rlxmoocapi import submit, session\n",
        "session.LoginSequence(endpoint=init.endpoint, course_id=init.course_id, lab_id=\"L02.03\", varname=\"student\");"
      ]
    },
    {
      "cell_type": "code",
      "source": [
        "import numpy as np\n",
        "import pandas as pd"
      ],
      "metadata": {
        "id": "iJ7O5ezgbbRk"
      },
      "id": "iJ7O5ezgbbRk",
      "execution_count": null,
      "outputs": []
    },
    {
      "cell_type": "code",
      "source": [
        "### Task 1: Extract data"
      ],
      "metadata": {
        "id": "3dpXI0kkCfE8"
      },
      "id": "3dpXI0kkCfE8",
      "execution_count": null,
      "outputs": []
    },
    {
      "cell_type": "code",
      "source": [
        "def create_df(missing=False, n=10):\n",
        "    itemid   = np.random.randint(100000, size=n)+1000\n",
        "    category = np.random.randint(3, size=n)\n",
        "    price    = np.round(np.random.normal(loc=100, scale=10, size=n),2)\n",
        "    margin   = np.round(np.random.normal(loc=10, scale=1, size=n),2)\n",
        "\n",
        "    if missing:\n",
        "        nmissing = np.random.randint(len(price)//2)+2\n",
        "        price[np.random.permutation(len(price))[:nmissing]] = np.nan\n",
        "\n",
        "    d = pd.DataFrame(np.r_[[price, category, margin]].T, index=itemid, columns=[\"price\", \"category\", \"margin\"])\n",
        "    d.index.name=\"itemid\"\n",
        "    if np.random.random()>.5:\n",
        "        d = d[d.columns[:2]]\n",
        "\n",
        "    return d"
      ],
      "metadata": {
        "id": "3GWrCsPGjRuu"
      },
      "id": "3GWrCsPGjRuu",
      "execution_count": null,
      "outputs": []
    },
    {
      "cell_type": "code",
      "source": [
        "d = create_df()\n",
        "d"
      ],
      "metadata": {
        "id": "DxWN7S-6jX52"
      },
      "id": "DxWN7S-6jX52",
      "execution_count": null,
      "outputs": []
    },
    {
      "cell_type": "code",
      "source": [
        "def select_items(df):\n",
        "    # make sure to make a copy in case you modify the original df\n",
        "    df = df.copy()\n",
        "\n",
        "    if \"margin\" in df.columns:\n",
        "        mask = (df[\"price\"] > 100) | (df[\"margin\"] > 10)\n",
        "    else:\n",
        "        mask = df[\"price\"] > 100\n",
        "\n",
        "    result = df.index[mask].tolist()\n",
        "    return result"
      ],
      "metadata": {
        "id": "H-nq84_pCtQD"
      },
      "id": "H-nq84_pCtQD",
      "execution_count": null,
      "outputs": []
    },
    {
      "cell_type": "code",
      "source": [
        "d = create_df()\n",
        "d"
      ],
      "metadata": {
        "id": "pOky_0QcCwgr"
      },
      "id": "pOky_0QcCwgr",
      "execution_count": null,
      "outputs": []
    },
    {
      "cell_type": "code",
      "source": [
        "select_items(d)"
      ],
      "metadata": {
        "id": "IMStMJ95CyA7"
      },
      "id": "IMStMJ95CyA7",
      "execution_count": null,
      "outputs": []
    },
    {
      "cell_type": "code",
      "source": [
        "student.submit_task(globals(), task_id=\"task_01\");"
      ],
      "metadata": {
        "id": "pCCx3s7qCzaj"
      },
      "id": "pCCx3s7qCzaj",
      "execution_count": null,
      "outputs": []
    },
    {
      "cell_type": "code",
      "source": [
        "### PARTE 2 Task 2: Group statistics"
      ],
      "metadata": {
        "id": "yo5VdixxjdUd"
      },
      "id": "yo5VdixxjdUd",
      "execution_count": null,
      "outputs": []
    },
    {
      "cell_type": "code",
      "source": [
        "def get_stats(df):\n",
        "    # make sure to make a copy in case you modify the original df\n",
        "    df = df.copy()\n",
        "\n",
        "    result = df.groupby(\"category\")[\"price\"].agg(\n",
        "        media=\"mean\",\n",
        "        maximo=\"max\",\n",
        "        minimo=\"min\"\n",
        "    )\n",
        "\n",
        "    result.index = result.index.astype(int)\n",
        "    result.index.name = \"categoria\"\n",
        "\n",
        "    return result"
      ],
      "metadata": {
        "id": "4eG1TiLojqcm",
        "outputId": "e26ef5ca-1a4a-4ba0-f68e-46456b2135a9",
        "colab": {
          "base_uri": "https://localhost:8080/"
        }
      },
      "execution_count": null,
      "outputs": [
        {
          "output_type": "execute_result",
          "data": {
            "text/plain": [
              "array([44, 54, 80, 45, 47, 16, 65, 58, 32, 17])"
            ]
          },
          "metadata": {},
          "execution_count": 28
        }
      ],
      "id": "4eG1TiLojqcm"
    },
    {
      "cell_type": "code",
      "source": [
        "d = create_df()\n",
        "d"
      ],
      "metadata": {
        "id": "WY7ZJflSk1GW"
      },
      "id": "WY7ZJflSk1GW",
      "execution_count": null,
      "outputs": []
    },
    {
      "cell_type": "code",
      "source": [
        "get_stats(d)"
      ],
      "metadata": {
        "id": "MISUH3iXC6Cb"
      },
      "id": "MISUH3iXC6Cb",
      "execution_count": null,
      "outputs": []
    },
    {
      "cell_type": "code",
      "source": [
        "student.submit_task(globals(), task_id=\"task_02\");"
      ],
      "metadata": {
        "id": "k0pbv8_cC8Kz"
      },
      "id": "k0pbv8_cC8Kz",
      "execution_count": null,
      "outputs": []
    },
    {
      "cell_type": "code",
      "source": [
        "### Task 3: Fill in missing data"
      ],
      "metadata": {
        "id": "Q7cZIh5hC8iz"
      },
      "id": "Q7cZIh5hC8iz",
      "execution_count": null,
      "outputs": []
    },
    {
      "cell_type": "code",
      "source": [
        "d = create_df(missing=True)\n",
        "d"
      ],
      "metadata": {
        "id": "W8g671S4C_Lq"
      },
      "id": "W8g671S4C_Lq",
      "execution_count": null,
      "outputs": []
    },
    {
      "cell_type": "code",
      "source": [
        "def fillna(df):\n",
        "    # make sure to make a copy in case you modify the original df\n",
        "    df = df.copy()\n",
        "\n",
        "    mean = df[\"price\"].mean(skipna=True)\n",
        "    std = df[\"price\"].std(skipna=True)\n",
        "\n",
        "    missing_mask = df[\"price\"].isna()\n",
        "    n_missing = missing_mask.sum()\n",
        "\n",
        "    samples = np.random.normal(mean, std, n_missing)\n",
        "\n",
        "    df.loc[missing_mask, \"price\"] = samples\n",
        "\n",
        "    result = df\n",
        "    return result"
      ],
      "metadata": {
        "id": "3iDTXoG-DEfr"
      },
      "id": "3iDTXoG-DEfr",
      "execution_count": null,
      "outputs": []
    },
    {
      "cell_type": "code",
      "source": [
        "d = create_df(missing=True)\n",
        "d"
      ],
      "metadata": {
        "id": "-p4a2BA2DGHV"
      },
      "id": "-p4a2BA2DGHV",
      "execution_count": null,
      "outputs": []
    },
    {
      "cell_type": "code",
      "source": [
        "fillna(d)"
      ],
      "metadata": {
        "id": "7xKwc85fDHzj"
      },
      "id": "7xKwc85fDHzj",
      "execution_count": null,
      "outputs": []
    },
    {
      "cell_type": "code",
      "source": [
        "student.submit_task(globals(), task_id=\"task_03\");"
      ],
      "metadata": {
        "id": "2fXYCk9tDJ4D"
      },
      "id": "2fXYCk9tDJ4D",
      "execution_count": null,
      "outputs": []
    }
  ],
  "metadata": {
    "language_info": {
      "name": "python"
    },
    "colab": {
      "provenance": []
    },
    "kernelspec": {
      "name": "python3",
      "display_name": "Python 3"
    }
  },
  "nbformat": 4,
  "nbformat_minor": 5
}