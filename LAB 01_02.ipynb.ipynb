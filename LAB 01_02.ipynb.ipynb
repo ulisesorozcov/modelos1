{
  "cells": [
    {
      "cell_type": "code",
      "source": [
        "### PARTE 1"
      ],
      "metadata": {
        "id": "ptiqdDgWjaFX"
      },
      "id": "ptiqdDgWjaFX",
      "execution_count": null,
      "outputs": []
    },
    {
      "cell_type": "code",
      "execution_count": null,
      "id": "415439bc",
      "metadata": {
        "vscode": {
          "languageId": "plaintext"
        },
        "id": "415439bc"
      },
      "outputs": [],
      "source": [
        "### Linea de carga de documentos\n",
        "!wget --no-cache -O init.py -q https://raw.githubusercontent.com/rramosp/ai4eng.v1/main/content/init.py\n",
        "import init, inspect; init.init(force_download=False); init.get_weblink()"
      ]
    },
    {
      "cell_type": "code",
      "execution_count": null,
      "id": "6837c637",
      "metadata": {
        "vscode": {
          "languageId": "plaintext"
        },
        "id": "6837c637"
      },
      "outputs": [],
      "source": [
        "from local.lib.rlxmoocapi import submit, session\n",
        "session.LoginSequence(endpoint=init.endpoint, course_id=init.course_id, lab_id=\"L01.02\", varname=\"student\");"
      ]
    },
    {
      "cell_type": "code",
      "source": [
        "### Contexto\n",
        "\n",
        "import numpy as np\n",
        "\n",
        "v1 = np.array([1,2,3,4])\n",
        "\n",
        "# the log of each element of the vector\n",
        "print ( \"the log   =\", np.log(v1)  )\n",
        "\n",
        "# the mean of all elements of the vector\n",
        "print ( \"the mean  =\",  np.mean(v1)  )\n",
        "\n",
        "# multiply all elements of a vector with a scalar\n",
        "print (\"times two =\", 2*v1)"
      ],
      "metadata": {
        "id": "iJ7O5ezgbbRk",
        "outputId": "0cd6ba88-d881-4dcb-ab4d-7d00c3e52ae7",
        "colab": {
          "base_uri": "https://localhost:8080/"
        }
      },
      "id": "iJ7O5ezgbbRk",
      "execution_count": 1,
      "outputs": [
        {
          "output_type": "stream",
          "name": "stdout",
          "text": [
            "the log   = [0.         0.69314718 1.09861229 1.38629436]\n",
            "the mean  = 2.5\n",
            "times two = [2 4 6 8]\n"
          ]
        }
      ]
    },
    {
      "cell_type": "code",
      "source": [
        "## Task 01. Accuracy"
      ],
      "metadata": {
        "id": "3GWrCsPGjRuu"
      },
      "id": "3GWrCsPGjRuu",
      "execution_count": null,
      "outputs": []
    },
    {
      "cell_type": "code",
      "source": [
        "## Algoritmo para Calcular el porcentaje de precisión de las predicciones correctas"
      ],
      "metadata": {
        "id": "wAl5-OQIp0L3"
      },
      "id": "wAl5-OQIp0L3",
      "execution_count": null,
      "outputs": []
    },
    {
      "cell_type": "code",
      "source": [
        "import numpy as np\n",
        "t1_actual    = np.random.randint(2, size=20)\n",
        "t1_predicted = np.abs(t1_actual*(np.random.random(size=20)>(np.random.random()*.9+.05)).astype(int))\n",
        "print (\"actual   \", \", \".join([str(i) for i in t1_actual]))\n",
        "print (\"predicted\", \", \".join([str(i) for i in t1_predicted]))"
      ],
      "metadata": {
        "id": "DxWN7S-6jX52",
        "outputId": "cee7f4e5-e59f-451e-ce54-ab38c2668d77",
        "colab": {
          "base_uri": "https://localhost:8080/"
        }
      },
      "id": "DxWN7S-6jX52",
      "execution_count": 2,
      "outputs": [
        {
          "output_type": "stream",
          "name": "stdout",
          "text": [
            "actual    0, 1, 1, 0, 1, 1, 0, 0, 1, 1, 1, 0, 0, 0, 1, 1, 0, 1, 0, 1\n",
            "predicted 0, 1, 1, 0, 1, 1, 0, 0, 1, 1, 1, 0, 0, 0, 0, 1, 0, 0, 0, 0\n"
          ]
        }
      ]
    },
    {
      "cell_type": "code",
      "source": [
        "from sklearn.metrics import accuracy_score\n",
        "accuracy = accuracy_score(t1_actual, t1_predicted)\n",
        "print(accuracy)"
      ],
      "metadata": {
        "id": "LGYY4pDKoN_n",
        "outputId": "0dd02810-2768-4a53-937d-c44bb392df6f",
        "colab": {
          "base_uri": "https://localhost:8080/"
        }
      },
      "id": "LGYY4pDKoN_n",
      "execution_count": 5,
      "outputs": [
        {
          "output_type": "stream",
          "name": "stdout",
          "text": [
            "0.85\n"
          ]
        }
      ]
    },
    {
      "cell_type": "code",
      "source": [
        "student.submit_task(globals(), task_id=\"task_01\");"
      ],
      "metadata": {
        "id": "MHm2WLeeoRjf",
        "outputId": "67e1cb2e-8fa8-41bc-bdd4-ffb9312dd0d5",
        "colab": {
          "base_uri": "https://localhost:8080/",
          "height": 141
        }
      },
      "id": "MHm2WLeeoRjf",
      "execution_count": 6,
      "outputs": [
        {
          "output_type": "error",
          "ename": "NameError",
          "evalue": "name 'student' is not defined",
          "traceback": [
            "\u001b[0;31m---------------------------------------------------------------------------\u001b[0m",
            "\u001b[0;31mNameError\u001b[0m                                 Traceback (most recent call last)",
            "\u001b[0;32m/tmp/ipython-input-3108895609.py\u001b[0m in \u001b[0;36m<cell line: 0>\u001b[0;34m()\u001b[0m\n\u001b[0;32m----> 1\u001b[0;31m \u001b[0mstudent\u001b[0m\u001b[0;34m.\u001b[0m\u001b[0msubmit_task\u001b[0m\u001b[0;34m(\u001b[0m\u001b[0mglobals\u001b[0m\u001b[0;34m(\u001b[0m\u001b[0;34m)\u001b[0m\u001b[0;34m,\u001b[0m \u001b[0mtask_id\u001b[0m\u001b[0;34m=\u001b[0m\u001b[0;34m\"task_01\"\u001b[0m\u001b[0;34m)\u001b[0m\u001b[0;34m;\u001b[0m\u001b[0;34m\u001b[0m\u001b[0;34m\u001b[0m\u001b[0m\n\u001b[0m",
            "\u001b[0;31mNameError\u001b[0m: name 'student' is not defined"
          ]
        }
      ]
    },
    {
      "cell_type": "code",
      "source": [
        "### PARTE 2"
      ],
      "metadata": {
        "id": "yo5VdixxjdUd"
      },
      "id": "yo5VdixxjdUd",
      "execution_count": null,
      "outputs": []
    },
    {
      "cell_type": "code",
      "source": [
        "### Task 2: Sensitivity"
      ],
      "metadata": {
        "id": "4eG1TiLojqcm"
      },
      "execution_count": 7,
      "outputs": [],
      "id": "4eG1TiLojqcm"
    },
    {
      "cell_type": "code",
      "source": [
        "### Algoritmo para Calcular la métrica de sensibilidad [también conocida como tasa de verdaderos positivos o recuperación"
      ],
      "metadata": {
        "id": "1rNg1UA_p8J-"
      },
      "id": "1rNg1UA_p8J-",
      "execution_count": null,
      "outputs": []
    },
    {
      "cell_type": "code",
      "source": [
        "import numpy as np\n",
        "t2_predicted = np.random.randint(2, size=20)\n",
        "t2_actual = np.random.randint(2, size=20)\n",
        "t2_predicted[np.argwhere(t2_actual==1)[0][0]]=0\n",
        "print (\"actual   \", \", \".join([str(i) for i in t2_actual]))\n",
        "print (\"predicted\", \", \".join([str(i) for i in t2_predicted]))"
      ],
      "metadata": {
        "id": "WY7ZJflSk1GW",
        "outputId": "c94ffed4-de4a-42ab-9db3-2ffff556f678",
        "colab": {
          "base_uri": "https://localhost:8080/"
        }
      },
      "id": "WY7ZJflSk1GW",
      "execution_count": 8,
      "outputs": [
        {
          "output_type": "stream",
          "name": "stdout",
          "text": [
            "actual    0, 1, 0, 1, 1, 0, 1, 0, 1, 0, 1, 1, 1, 1, 0, 0, 1, 0, 1, 0\n",
            "predicted 1, 0, 0, 1, 0, 1, 1, 1, 1, 1, 0, 0, 0, 1, 0, 1, 0, 0, 0, 1\n"
          ]
        }
      ]
    },
    {
      "cell_type": "code",
      "source": [
        "from sklearn.metrics import recall_score\n",
        "tpr = recall_score(t2_actual, t2_predicted)"
      ],
      "metadata": {
        "id": "VmNwuviBpflP"
      },
      "id": "VmNwuviBpflP",
      "execution_count": 10,
      "outputs": []
    },
    {
      "cell_type": "code",
      "source": [
        "student.submit_task(globals(), task_id=\"task_02\");"
      ],
      "metadata": {
        "id": "TCXLKiadqALP"
      },
      "id": "TCXLKiadqALP",
      "execution_count": null,
      "outputs": []
    },
    {
      "cell_type": "code",
      "source": [
        "### Parte 3"
      ],
      "metadata": {
        "id": "bXqSUPHPqWXu"
      },
      "id": "bXqSUPHPqWXu",
      "execution_count": null,
      "outputs": []
    },
    {
      "cell_type": "code",
      "source": [
        "# Task 3: Evaluation in New York City Taxi Trip Duration Kaggle Competition"
      ],
      "metadata": {
        "id": "0fyeVad8qRAP"
      },
      "id": "0fyeVad8qRAP",
      "execution_count": null,
      "outputs": []
    },
    {
      "cell_type": "code",
      "source": [
        "## Comprenda los datos y la métrica de evaluación ( error logarítmico cuadrático medio , RMSLE) de la siguiente competencia de Kaggle\n",
        "\n",
        "### Tenga en cuenta que esta competencia es una tarea de regresión, ya que estamos midiendo la diferencia en la predicción con respecto a lo real."
      ],
      "metadata": {
        "id": "n3TtM6DjqHkP"
      },
      "id": "n3TtM6DjqHkP",
      "execution_count": null,
      "outputs": []
    },
    {
      "cell_type": "code",
      "source": [
        "t3_actual    = np.random.randint(80,size=15)+20\n",
        "t3_predicted = np.random.randint(80,size=15)+20\n",
        "print (\"actual   \", t3_actual)\n",
        "print (\"predicted\", t3_predicted)"
      ],
      "metadata": {
        "id": "6-HvBMlDqYIG",
        "outputId": "907baab1-f67a-4b64-9e6f-2a6c16a5909f",
        "colab": {
          "base_uri": "https://localhost:8080/"
        }
      },
      "id": "6-HvBMlDqYIG",
      "execution_count": 11,
      "outputs": [
        {
          "output_type": "stream",
          "name": "stdout",
          "text": [
            "actual    [20 27 77 45 46 47 99 76 36 25 84 81 33 63 35]\n",
            "predicted [40 48 93 86 92 28 73 91 59 46 87 26 39 24 58]\n"
          ]
        }
      ]
    },
    {
      "cell_type": "code",
      "source": [
        "rmsle = np.sqrt(np.mean((np.log1p(t3_predicted) - np.log1p(t3_actual))**2))"
      ],
      "metadata": {
        "id": "sPJFFdROqcXv"
      },
      "id": "sPJFFdROqcXv",
      "execution_count": 12,
      "outputs": []
    },
    {
      "cell_type": "code",
      "source": [
        "student.submit_task(globals(), task_id=\"task_03\");"
      ],
      "metadata": {
        "id": "fFWeDQn4qfRv"
      },
      "id": "fFWeDQn4qfRv",
      "execution_count": null,
      "outputs": []
    },
    {
      "cell_type": "code",
      "source": [
        "#### PARTE 4"
      ],
      "metadata": {
        "id": "YJ7_iV_qqfvf"
      },
      "id": "YJ7_iV_qqfvf",
      "execution_count": null,
      "outputs": []
    },
    {
      "cell_type": "code",
      "source": [
        "# Comprenda los datos y la métrica de evaluación ( pérdida logarítmica multiclase , logloss ) de la siguiente competencia de Kaggle"
      ],
      "metadata": {
        "id": "QcSzGmBnrOjf"
      },
      "id": "QcSzGmBnrOjf",
      "execution_count": null,
      "outputs": []
    },
    {
      "cell_type": "code",
      "source": [
        "import numpy as np\n",
        "\n",
        "t4_predicted = np.random.random(size=(7,5)).T+0.5\n",
        "t4_predicted = np.round((t4_predicted/np.sum(t4_predicted,axis=0)),2).T\n",
        "\n",
        "t4_actual = np.eye(5)[np.random.randint(5,size=len(t4_predicted))].astype(int)\n",
        "\n",
        "print (\"actual\")\n",
        "print (t4_actual)\n",
        "print (\"\\npredicted\")\n",
        "print (t4_predicted)"
      ],
      "metadata": {
        "id": "Gb7W36UzqhsP"
      },
      "id": "Gb7W36UzqhsP",
      "execution_count": null,
      "outputs": []
    },
    {
      "cell_type": "code",
      "source": [
        "logloss = -np.mean(np.sum(t4_actual * np.log(t4_predicted), axis=1))"
      ],
      "metadata": {
        "id": "dQ3FkHCrq6VP"
      },
      "id": "dQ3FkHCrq6VP",
      "execution_count": null,
      "outputs": []
    },
    {
      "cell_type": "code",
      "source": [
        "student.submit_task(globals(), task_id=\"task_04\");"
      ],
      "metadata": {
        "id": "hjPqlQfWrDKY"
      },
      "id": "hjPqlQfWrDKY",
      "execution_count": null,
      "outputs": []
    }
  ],
  "metadata": {
    "language_info": {
      "name": "python"
    },
    "colab": {
      "provenance": []
    },
    "kernelspec": {
      "name": "python3",
      "display_name": "Python 3"
    }
  },
  "nbformat": 4,
  "nbformat_minor": 5
}