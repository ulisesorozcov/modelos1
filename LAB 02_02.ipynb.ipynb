{
  "cells": [
    {
      "cell_type": "code",
      "source": [
        "### LAB 02.02 - Numpy\n",
        "### PARTE 1"
      ],
      "metadata": {
        "id": "ptiqdDgWjaFX"
      },
      "id": "ptiqdDgWjaFX",
      "execution_count": 1,
      "outputs": []
    },
    {
      "cell_type": "code",
      "source": [
        "# Task 1: Cauchy Matrix"
      ],
      "metadata": {
        "id": "gHyC0A_a9Sf7"
      },
      "id": "gHyC0A_a9Sf7",
      "execution_count": null,
      "outputs": []
    },
    {
      "cell_type": "code",
      "execution_count": null,
      "id": "415439bc",
      "metadata": {
        "vscode": {
          "languageId": "plaintext"
        },
        "id": "415439bc"
      },
      "outputs": [],
      "source": [
        "!wget --no-cache -O init.py -q https://raw.githubusercontent.com/rramosp/ai4eng.v1/main/content/init.py\n",
        "import init; init.init(force_download=False); init.get_weblink()"
      ]
    },
    {
      "cell_type": "code",
      "execution_count": null,
      "id": "6837c637",
      "metadata": {
        "vscode": {
          "languageId": "plaintext"
        },
        "id": "6837c637"
      },
      "outputs": [],
      "source": [
        "from local.lib.rlxmoocapi import submit, session\n",
        "session.LoginSequence(endpoint=init.endpoint, course_id=init.course_id, lab_id=\"L02.02\", varname=\"student\");"
      ]
    },
    {
      "cell_type": "code",
      "source": [
        "import numpy as np\n",
        "\n",
        "def cauchy(x, y):\n",
        "    x = np.asarray(x).reshape(-1, 1)  # columna\n",
        "    y = np.asarray(y)                 # fila\n",
        "    diff = x - y\n",
        "    if np.any(diff == 0):\n",
        "        raise ValueError(\"Division by zero in Cauchy matrix\")\n",
        "    return 1.0 / diff"
      ],
      "metadata": {
        "id": "iJ7O5ezgbbRk"
      },
      "id": "iJ7O5ezgbbRk",
      "execution_count": 4,
      "outputs": []
    },
    {
      "cell_type": "code",
      "source": [
        "x = np.array([45, 31, 67, 75, 54])\n",
        "y = np.array([17,  7, 15, 15, 18])\n",
        "cauchy(x,y)"
      ],
      "metadata": {
        "id": "Lr91dHBBAnh9"
      },
      "id": "Lr91dHBBAnh9",
      "execution_count": null,
      "outputs": []
    },
    {
      "cell_type": "code",
      "source": [
        "student.submit_task(globals(), task_id=\"task_01\");"
      ],
      "metadata": {
        "id": "DxWN7S-6jX52"
      },
      "id": "DxWN7S-6jX52",
      "execution_count": null,
      "outputs": []
    },
    {
      "cell_type": "code",
      "source": [
        "### PARTE 2 Task 2: Position of closest scalar"
      ],
      "metadata": {
        "id": "yo5VdixxjdUd"
      },
      "id": "yo5VdixxjdUd",
      "execution_count": null,
      "outputs": []
    },
    {
      "cell_type": "code",
      "source": [
        "def minimo(x, v):\n",
        "    return np.argmin(np.abs(x - v))"
      ],
      "metadata": {
        "id": "4eG1TiLojqcm"
      },
      "execution_count": 2,
      "outputs": [],
      "id": "4eG1TiLojqcm"
    },
    {
      "cell_type": "code",
      "source": [
        ">> x=np.arange(25,55,3)\n",
        ">> minimo(x,34)\n",
        "3"
      ],
      "metadata": {
        "id": "WY7ZJflSk1GW"
      },
      "id": "WY7ZJflSk1GW",
      "execution_count": null,
      "outputs": []
    },
    {
      "cell_type": "code",
      "source": [
        "x = np.arange(25,55,3)\n",
        "v = 34\n",
        "minimo(x,v)"
      ],
      "metadata": {
        "id": "xY2aA1RI9pdz"
      },
      "id": "xY2aA1RI9pdz",
      "execution_count": null,
      "outputs": []
    },
    {
      "cell_type": "code",
      "source": [
        "student.submit_task(globals(), task_id=\"task_02\");"
      ],
      "metadata": {
        "id": "vvMbunIm9qVp"
      },
      "id": "vvMbunIm9qVp",
      "execution_count": null,
      "outputs": []
    },
    {
      "cell_type": "code",
      "source": [
        "### Task 3: Substracting row mean"
      ],
      "metadata": {
        "id": "T7tzhxQG9sB6"
      },
      "id": "T7tzhxQG9sB6",
      "execution_count": null,
      "outputs": []
    },
    {
      "cell_type": "code",
      "source": [
        "def media(X):\n",
        "    X = np.asarray(X)\n",
        "    if X.ndim == 1:\n",
        "        return X - X.mean()\n",
        "    return X - X.mean(axis=1, keepdims=True)"
      ],
      "metadata": {
        "id": "5c745ydm9w0a"
      },
      "id": "5c745ydm9w0a",
      "execution_count": null,
      "outputs": []
    },
    {
      "cell_type": "code",
      "source": [
        "X = np.array([[1, 2, 3], [4, 5, 6],[7,8,9]])\n",
        "media(X)"
      ],
      "metadata": {
        "id": "_BbnmAoY90da"
      },
      "id": "_BbnmAoY90da",
      "execution_count": null,
      "outputs": []
    },
    {
      "cell_type": "code",
      "source": [
        "student.submit_task(globals(), task_id=\"task_03\");"
      ],
      "metadata": {
        "id": "jXQ6YkYT905y"
      },
      "id": "jXQ6YkYT905y",
      "execution_count": null,
      "outputs": []
    },
    {
      "cell_type": "code",
      "source": [
        "#######################3 Task 4: Double the diagonal"
      ],
      "metadata": {
        "id": "HPsR04AC93yq"
      },
      "id": "HPsR04AC93yq",
      "execution_count": null,
      "outputs": []
    },
    {
      "cell_type": "code",
      "source": [
        "def doublediag(X):\n",
        "    return X + X * np.eye(X.shape[0])"
      ],
      "metadata": {
        "id": "1PPdVOYC94hL"
      },
      "id": "1PPdVOYC94hL",
      "execution_count": null,
      "outputs": []
    },
    {
      "cell_type": "code",
      "source": [
        "X = np.array([[79, 45, 67,  8, 37],\n",
        "               [47, 40,  5, 79, 86],\n",
        "               [72, 25, 44, 45, 22],\n",
        "              [12, 85,  8, 53, 28],\n",
        "              [ 4, 37, 36, 40, 16]])\n",
        "\n",
        "doublediag(X)\n",
        "\n"
      ],
      "metadata": {
        "id": "q4GR997998J6"
      },
      "id": "q4GR997998J6",
      "execution_count": null,
      "outputs": []
    },
    {
      "cell_type": "code",
      "source": [
        "student.submit_task(globals(), task_id=\"task_04\");"
      ],
      "metadata": {
        "id": "uVDG6hXu9_Iq"
      },
      "id": "uVDG6hXu9_Iq",
      "execution_count": null,
      "outputs": []
    }
  ],
  "metadata": {
    "language_info": {
      "name": "python"
    },
    "colab": {
      "provenance": []
    },
    "kernelspec": {
      "name": "python3",
      "display_name": "Python 3"
    }
  },
  "nbformat": 4,
  "nbformat_minor": 5
}